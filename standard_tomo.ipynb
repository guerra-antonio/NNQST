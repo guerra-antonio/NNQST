{
 "cells": [
  {
   "cell_type": "code",
   "execution_count": 1,
   "id": "b9a18742",
   "metadata": {},
   "outputs": [],
   "source": [
    "# Importamos librerias necesarias\n",
    "import numpy as np\n",
    "\n",
    "import torch\n",
    "\n",
    "from tqdm import tqdm\n",
    "from classical_shadow import random_state\n",
    "from tomography import pauli_basis, gellmann_basis, simulate_expectation, standard_tomography, fidelity"
   ]
  },
  {
   "cell_type": "code",
   "execution_count": 2,
   "id": "9022ecb8",
   "metadata": {},
   "outputs": [
    {
     "name": "stderr",
     "output_type": "stream",
     "text": [
      "Generating data for comparisson: 100%|██████████| 3/3 [00:15<00:00,  5.21s/it]\n"
     ]
    }
   ],
   "source": [
    "N_exp_test  = [2000, 4000, 6000]\n",
    "p_basis     = pauli_basis(N = 1)\n",
    "gm_basis    = gellmann_basis(d = 2)\n",
    "\n",
    "f1 = []\n",
    "f2 = []\n",
    "\n",
    "for n_exp in tqdm(N_exp_test, desc = \"Generating data for comparisson\"):\n",
    "    # Prepare a list to save the results\n",
    "    fidelities = [], []\n",
    "\n",
    "    # We repeat the same process multiple times using different randomly generated quantum states\n",
    "    for _ in range(100):\n",
    "        # Choose a random quantum state\n",
    "        psi_true = random_state()\n",
    "\n",
    "        # -------------------------------\n",
    "        # Then, we do two tomographies more using standard tomograhy, one using Pauli basis and the other using Gellmann matrices\n",
    "        # -------------------------------\n",
    "        # Prepare the proper density matrices related with the psi_true vector\n",
    "        rho_true = psi_true.detach().numpy()\n",
    "        rho_true = np.kron(rho_true.conj().T, rho_true).reshape(2, 2)\n",
    "\n",
    "        # Simulate the different expectations.\n",
    "        pauli_expectation   = np.array([simulate_expectation(rho = rho_true, O = pauli_obs, n_exp = int(n_exp / 3)) for pauli_obs in p_basis])\n",
    "        gm_expectation      = np.array([simulate_expectation(rho = rho_true, O = gm_obs, n_exp = int(n_exp / 3)) for gm_obs in gm_basis])\n",
    "\n",
    "        # Then we do the standard tomography\n",
    "        rho_standard_pauli = standard_tomography(set_measure_basis = p_basis, expectation_values = pauli_expectation)\n",
    "        rho_standard_gm = standard_tomography(set_measure_basis = gm_basis, expectation_values = gm_expectation)\n",
    "\n",
    "        # Compute the fidelities\n",
    "        fidelity_p  = fidelity(rho = rho_true, sigma = rho_standard_pauli)\n",
    "        fidelity_gm = fidelity(rho = rho_true, sigma = rho_standard_gm)\n",
    "\n",
    "        # Save the results in the list\n",
    "\n",
    "        # For Standard tomography\n",
    "        fidelities[0].append(fidelity_p)\n",
    "        fidelities[1].append(fidelity_gm)\n",
    "\n",
    "    f1.append((np.mean(fidelities[0]), np.std(fidelities[0])))\n",
    "    f2.append((np.mean(fidelities[1]), np.std(fidelities[1])))"
   ]
  },
  {
   "cell_type": "code",
   "execution_count": 3,
   "id": "08289407",
   "metadata": {},
   "outputs": [
    {
     "data": {
      "text/plain": [
       "[(0.9950878776917774, 0.006462905470503137),\n",
       " (0.9959122309387783, 0.005610353091395169),\n",
       " (0.997410992193708, 0.004106613343911327)]"
      ]
     },
     "execution_count": 3,
     "metadata": {},
     "output_type": "execute_result"
    }
   ],
   "source": [
    "f1"
   ]
  },
  {
   "cell_type": "code",
   "execution_count": 4,
   "id": "fe25e930",
   "metadata": {},
   "outputs": [
    {
     "data": {
      "text/plain": [
       "[(0.9952160937315334, 0.008186219719577042),\n",
       " (0.9976192186048151, 0.003910819832722953),\n",
       " (0.9974811978575154, 0.0037998130211662146)]"
      ]
     },
     "execution_count": 4,
     "metadata": {},
     "output_type": "execute_result"
    }
   ],
   "source": [
    "f2"
   ]
  }
 ],
 "metadata": {
  "kernelspec": {
   "display_name": "base",
   "language": "python",
   "name": "python3"
  },
  "language_info": {
   "codemirror_mode": {
    "name": "ipython",
    "version": 3
   },
   "file_extension": ".py",
   "mimetype": "text/x-python",
   "name": "python",
   "nbconvert_exporter": "python",
   "pygments_lexer": "ipython3",
   "version": "3.9.13"
  }
 },
 "nbformat": 4,
 "nbformat_minor": 5
}
