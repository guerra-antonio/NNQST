{
 "cells": [
  {
   "cell_type": "code",
   "execution_count": 1,
   "id": "33ffbe1f",
   "metadata": {},
   "outputs": [],
   "source": [
    "import numpy as np\n",
    "import random\n",
    "\n",
    "from useful_functions import *"
   ]
  },
  {
   "cell_type": "code",
   "execution_count": 2,
   "id": "3ce62224",
   "metadata": {},
   "outputs": [],
   "source": [
    "# pauli matrices\n",
    "\n",
    "pauli = {\n",
    "    'I': np.array([[1, 0],\n",
    "                   [0, 1]], dtype=complex),\n",
    "    'X': np.array([[0, 1],\n",
    "                   [1, 0]], dtype=complex),\n",
    "    'Y': np.array([[0, -1j],\n",
    "                   [1j, 0]], dtype=complex),\n",
    "    'Z': np.array([[1, 0],\n",
    "                   [0, -1]], dtype=complex)\n",
    "}"
   ]
  },
  {
   "cell_type": "code",
   "execution_count": 3,
   "id": "b8255caf",
   "metadata": {},
   "outputs": [],
   "source": [
    "n_qubits = 2 \n",
    "outcomes = [\"00\", \"01\", \"10\", \"11\"]\n",
    "\n",
    "def pauli_string_to_matrix(pauli_string):\n",
    "    \"\"\"\n",
    "    Convert a Pauli string to its corresponding matrix.\n",
    "    \"\"\"\n",
    "    result = np.eye(1, dtype=complex)\n",
    "    for i, p in enumerate(pauli_string):\n",
    "        if p in pauli:\n",
    "            result = np.kron(result, pauli[p])\n",
    "        else:\n",
    "            raise ValueError(f\"Invalid Pauli operator: {p}\")\n",
    "    return result"
   ]
  },
  {
   "cell_type": "code",
   "execution_count": 4,
   "id": "42bc411c",
   "metadata": {},
   "outputs": [],
   "source": [
    "labels = [\"I\", \"X\", \"Y\", \"Z\"]\n",
    "labels = [labels[i] + labels[j] for i in range(len(labels)) for j in range(len(labels))]\n",
    "labels = labels[1:]"
   ]
  },
  {
   "cell_type": "code",
   "execution_count": 5,
   "id": "191e239d",
   "metadata": {},
   "outputs": [],
   "source": [
    "rho = random_state(n_qubits = 2, rank = 1)\n",
    "_, psi = np.linalg.eigh(rho)\n",
    "psi = psi[:, 3]\n",
    "psi = psi.reshape(-1, 1)"
   ]
  },
  {
   "cell_type": "code",
   "execution_count": 6,
   "id": "4454095e",
   "metadata": {},
   "outputs": [],
   "source": [
    "random_pauli = random.choice(labels)\n",
    "random_pauli = pauli_string_to_matrix(random_pauli)"
   ]
  },
  {
   "cell_type": "code",
   "execution_count": 7,
   "id": "ea3753b2",
   "metadata": {},
   "outputs": [],
   "source": [
    "psi_out = np.dot(random_pauli, psi)"
   ]
  },
  {
   "cell_type": "code",
   "execution_count": 8,
   "id": "93c76210",
   "metadata": {},
   "outputs": [],
   "source": [
    "probs = np.abs(psi_out)**2"
   ]
  },
  {
   "cell_type": "code",
   "execution_count": 19,
   "id": "1d0b5d03",
   "metadata": {},
   "outputs": [
    {
     "data": {
      "text/plain": [
       "'11'"
      ]
     },
     "execution_count": 19,
     "metadata": {},
     "output_type": "execute_result"
    }
   ],
   "source": [
    "sample = np.random.choice(outcomes, p=probs.flatten())\n",
    "sample"
   ]
  },
  {
   "cell_type": "code",
   "execution_count": null,
   "id": "32b91727",
   "metadata": {},
   "outputs": [],
   "source": []
  }
 ],
 "metadata": {
  "kernelspec": {
   "display_name": "base",
   "language": "python",
   "name": "python3"
  },
  "language_info": {
   "codemirror_mode": {
    "name": "ipython",
    "version": 3
   },
   "file_extension": ".py",
   "mimetype": "text/x-python",
   "name": "python",
   "nbconvert_exporter": "python",
   "pygments_lexer": "ipython3",
   "version": "3.9.19"
  }
 },
 "nbformat": 4,
 "nbformat_minor": 5
}
