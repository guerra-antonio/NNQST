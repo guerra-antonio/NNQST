{
 "cells": [
  {
   "cell_type": "code",
   "execution_count": 1,
   "id": "74ac3e50",
   "metadata": {},
   "outputs": [],
   "source": [
    "import numpy as np\n",
    "import torch\n",
    "import torch.nn as nn\n",
    "import torch.optim as optim\n",
    "from itertools import product\n",
    "from scipy.stats import unitary_group"
   ]
  },
  {
   "cell_type": "code",
   "execution_count": 2,
   "id": "ed582711",
   "metadata": {},
   "outputs": [],
   "source": [
    "# Configuración\n",
    "np.random.seed(42)\n",
    "torch.manual_seed(42)\n",
    "n_qubits = 3\n",
    "dim = 2 ** n_qubits"
   ]
  },
  {
   "cell_type": "code",
   "execution_count": 3,
   "id": "93c4611b",
   "metadata": {},
   "outputs": [],
   "source": [
    "# ======================\n",
    "# 1. Estado aleatorio\n",
    "# ======================\n",
    "def random_pure_state(n_qubits):\n",
    "    dim = 2**n_qubits\n",
    "    psi = np.random.randn(dim) + 1j * np.random.randn(dim)\n",
    "    psi /= np.linalg.norm(psi)\n",
    "    return psi\n",
    "\n",
    "def density_matrix(psi):\n",
    "    return np.outer(psi, np.conj(psi))\n",
    "\n",
    "psi = random_pure_state(n_qubits)\n",
    "rho_true = density_matrix(psi)"
   ]
  },
  {
   "cell_type": "code",
   "execution_count": 4,
   "id": "0317e70b",
   "metadata": {},
   "outputs": [],
   "source": [
    "# ======================\n",
    "# 2. Pauli Operators\n",
    "# ======================\n",
    "pauli_matrices = {\n",
    "    \"I\": np.eye(2),\n",
    "    \"X\": np.array([[0, 1], [1, 0]]),\n",
    "    \"Y\": np.array([[0, -1j], [1j, 0]]),\n",
    "    \"Z\": np.array([[1, 0], [0, -1]])\n",
    "}\n",
    "\n",
    "pauli_labels = [\"X\", \"Y\", \"Z\"]\n",
    "\n",
    "def random_pauli_basis(n):\n",
    "    return np.random.choice(pauli_labels, size=n)\n",
    "\n",
    "def measurement_operator(basis):\n",
    "    M = pauli_matrices[basis[0]]\n",
    "    for p in basis[1:]:\n",
    "        M = np.kron(M, pauli_matrices[p])\n",
    "    return M"
   ]
  },
  {
   "cell_type": "code",
   "execution_count": 5,
   "id": "d1960ae4",
   "metadata": {},
   "outputs": [],
   "source": [
    "# ======================\n",
    "# 3. Dataset\n",
    "# ======================\n",
    "def generate_dataset(rho, n_samples=20000):\n",
    "    dataset = []\n",
    "    for _ in range(n_samples):\n",
    "        basis = random_pauli_basis(n_qubits)\n",
    "        M = measurement_operator(basis)\n",
    "        val = np.real(np.trace(rho @ M))\n",
    "        dataset.append((basis, val))\n",
    "    return dataset\n",
    "\n",
    "dataset = generate_dataset(rho_true)"
   ]
  },
  {
   "cell_type": "code",
   "execution_count": 6,
   "id": "5a3ce20b",
   "metadata": {},
   "outputs": [],
   "source": [
    "# ======================\n",
    "# 4. Red Neuronal\n",
    "# ======================\n",
    "class PauliEncoder(nn.Module):\n",
    "    def __init__(self, n_qubits):\n",
    "        super().__init__()\n",
    "        self.embed = nn.Embedding(3, 4)  # X, Y, Z → 0,1,2 → one-hot 4D\n",
    "        self.net = nn.Sequential(\n",
    "            nn.Linear(n_qubits * 4, 128),\n",
    "            nn.ReLU(),\n",
    "            nn.Linear(128, 1)\n",
    "        )\n",
    "\n",
    "    def forward(self, x):\n",
    "        x = self.embed(x)  # (batch, qubits, 4)\n",
    "        x = x.view(x.shape[0], -1)\n",
    "        return self.net(x).squeeze(-1)\n",
    "\n",
    "def basis_to_tensor(basis_list):\n",
    "    mapping = {\"X\": 0, \"Y\": 1, \"Z\": 2}\n",
    "    return torch.tensor([[mapping[p] for p in basis] for basis in basis_list], dtype=torch.long)\n",
    "\n",
    "basis_list, vals = zip(*dataset)\n",
    "X_train = basis_to_tensor(basis_list)\n",
    "y_train = torch.tensor(vals, dtype=torch.float32)"
   ]
  },
  {
   "cell_type": "code",
   "execution_count": 7,
   "id": "6fa1695a",
   "metadata": {},
   "outputs": [
    {
     "name": "stdout",
     "output_type": "stream",
     "text": [
      "Epoch 0: Loss = 0.23161213099956512\n",
      "Epoch 1000: Loss = 2.107495476283373e-15\n",
      "Epoch 2000: Loss = 5.457474572015636e-16\n"
     ]
    }
   ],
   "source": [
    "# ======================\n",
    "# 5. Entrenamiento\n",
    "# ======================\n",
    "model = PauliEncoder(n_qubits)\n",
    "optimizer = optim.Adam(model.parameters(), lr=1e-3)\n",
    "loss_fn = nn.MSELoss()\n",
    "\n",
    "n_epochs = 3000\n",
    "\n",
    "for epoch in range(n_epochs):\n",
    "    model.train()\n",
    "    optimizer.zero_grad()\n",
    "    preds = model(X_train)\n",
    "    loss = loss_fn(preds, y_train)\n",
    "    loss.backward()\n",
    "    optimizer.step()\n",
    "    if epoch % 1000 == 0:\n",
    "        print(f\"Epoch {epoch}: Loss = {loss.item()}\")"
   ]
  },
  {
   "cell_type": "code",
   "execution_count": 8,
   "id": "f3e85172",
   "metadata": {},
   "outputs": [],
   "source": [
    "# ======================\n",
    "# 6. Reconstrucción\n",
    "# ======================\n",
    "# Expandimos la matriz densidad como:\n",
    "# ρ = (1/2^n) * sum_r c_r * P_r, donde P_r ∈ base de Pauli\n",
    "\n",
    "def all_pauli_strings(n):\n",
    "    return list(product(pauli_labels, repeat=n))\n",
    "\n",
    "def reconstruct_density_matrix(model, n_qubits):\n",
    "    pauli_strings = all_pauli_strings(n_qubits)\n",
    "    mapping = {\"X\": 0, \"Y\": 1, \"Z\": 2}\n",
    "    X_test = torch.tensor([[mapping[p] for p in basis] for basis in pauli_strings], dtype=torch.long)\n",
    "    with torch.no_grad():\n",
    "        coeffs = model(X_test).numpy()\n",
    "\n",
    "    rho_est = np.zeros((2**n_qubits, 2**n_qubits), dtype=complex)\n",
    "    for basis, coeff in zip(pauli_strings, coeffs):\n",
    "        M = measurement_operator(basis)\n",
    "        rho_est += coeff * M\n",
    "\n",
    "    rho_est /= 2**n_qubits\n",
    "    return rho_est\n",
    "\n",
    "rho_est = reconstruct_density_matrix(model, n_qubits)"
   ]
  },
  {
   "cell_type": "code",
   "execution_count": 9,
   "id": "de4aded3",
   "metadata": {},
   "outputs": [
    {
     "name": "stdout",
     "output_type": "stream",
     "text": [
      "\n",
      "Fidelidad estimada: 0.423483\n"
     ]
    }
   ],
   "source": [
    "# ======================\n",
    "# 7. Fidelidad\n",
    "# ======================\n",
    "def fidelity(rho, sigma):\n",
    "    sqrt_rho = scipy.linalg.sqrtm(rho)\n",
    "    inner = sqrt_rho @ sigma @ sqrt_rho\n",
    "    fid = np.real(np.trace(scipy.linalg.sqrtm(inner)))**2\n",
    "    return fid\n",
    "\n",
    "import scipy.linalg\n",
    "fid = fidelity(rho_true, rho_est)\n",
    "print(f\"\\nFidelidad estimada: {fid:.6f}\")"
   ]
  }
 ],
 "metadata": {
  "kernelspec": {
   "display_name": "base",
   "language": "python",
   "name": "python3"
  },
  "language_info": {
   "codemirror_mode": {
    "name": "ipython",
    "version": 3
   },
   "file_extension": ".py",
   "mimetype": "text/x-python",
   "name": "python",
   "nbconvert_exporter": "python",
   "pygments_lexer": "ipython3",
   "version": "3.9.19"
  }
 },
 "nbformat": 4,
 "nbformat_minor": 5
}
