{
 "cells": [
  {
   "cell_type": "code",
   "execution_count": 1,
   "id": "e2d5a7bd",
   "metadata": {},
   "outputs": [],
   "source": [
    "# Importamos librerias necesarias\n",
    "import numpy as np\n",
    "\n",
    "import torch\n",
    "\n",
    "from tqdm import tqdm\n",
    "from classical_shadow import sample_measurements, NQS, batches, nll_batch, random_state\n",
    "from tomography import pauli_basis, simulate_expectation, standard_tomography, fidelity"
   ]
  },
  {
   "cell_type": "code",
   "execution_count": 2,
   "id": "855f6480",
   "metadata": {},
   "outputs": [],
   "source": [
    "error = 0.02\n",
    "n_exp = 500\n",
    "psi_true = random_state()\n",
    "\n",
    "train_data = sample_measurements(psi=psi_true, M=n_exp, error = error)"
   ]
  },
  {
   "cell_type": "code",
   "execution_count": 3,
   "id": "ddf4ac77",
   "metadata": {},
   "outputs": [],
   "source": [
    "model = NQS()\n",
    "opt = torch.optim.Adam(model.parameters(), lr=1e-2)\n",
    "sch = torch.optim.lr_scheduler.StepLR(opt, step_size=50, gamma=0.5)"
   ]
  },
  {
   "cell_type": "code",
   "execution_count": 4,
   "id": "8f51e57d",
   "metadata": {},
   "outputs": [],
   "source": [
    "epochs = 500\n",
    "batch = 64"
   ]
  },
  {
   "cell_type": "code",
   "execution_count": 5,
   "id": "bd5dc0fd",
   "metadata": {},
   "outputs": [
    {
     "name": "stdout",
     "output_type": "stream",
     "text": [
      "Epoch 1 || Loss 2.7079617977142334\n",
      "Epoch 50 || Loss 0.9937571287155151\n",
      "Epoch 100 || Loss 0.926230788230896\n",
      "Epoch 150 || Loss 0.8997865319252014\n",
      "Epoch 200 || Loss 0.8844689726829529\n",
      "Epoch 250 || Loss 0.8751189708709717\n",
      "Epoch 300 || Loss 0.8694041967391968\n",
      "Epoch 350 || Loss 0.8659293055534363\n",
      "Epoch 400 || Loss 0.8638286590576172\n",
      "Epoch 450 || Loss 0.8625679016113281\n",
      "Epoch 500 || Loss 0.8618176579475403\n"
     ]
    }
   ],
   "source": [
    "# Step 4: training loop\n",
    "for epoch in range(1, epochs + 1):\n",
    "    model.train()  # set model to training mode\n",
    "    \n",
    "    for batch_data in batches(train_data, batch):\n",
    "        # Compute negative log-likelihood loss for the current batch\n",
    "        loss = nll_batch(model, batch_data)\n",
    "\n",
    "        # Gradient step\n",
    "        opt.zero_grad()\n",
    "        loss.backward()\n",
    "        opt.step()\n",
    "\n",
    "    # Update learning rate schedule\n",
    "    sch.step()\n",
    "\n",
    "    # Show the loss\n",
    "    if (epoch % 50 == 0) or (epoch == 1):\n",
    "        print(f\"Epoch {epoch} || Loss {loss.item()}\")"
   ]
  },
  {
   "cell_type": "code",
   "execution_count": 6,
   "id": "fd577451",
   "metadata": {},
   "outputs": [],
   "source": [
    "rho_true = psi_true.detach().numpy()\n",
    "rho_true = np.kron(rho_true, rho_true.conj().T).reshape(2, 2)\n",
    "\n",
    "rho_pred = model.density_matrix().detach().numpy()\n",
    "rho_pred = 1/2 * ( rho_pred + rho_pred.conj().T )\n",
    "rho_pred = rho_pred / np.trace(rho_pred)"
   ]
  },
  {
   "cell_type": "code",
   "execution_count": 7,
   "id": "1a7c936d",
   "metadata": {},
   "outputs": [
    {
     "data": {
      "text/plain": [
       "0.957472991351589"
      ]
     },
     "execution_count": 7,
     "metadata": {},
     "output_type": "execute_result"
    }
   ],
   "source": [
    "fidelity(rho = rho_true, sigma = rho_pred)"
   ]
  }
 ],
 "metadata": {
  "kernelspec": {
   "display_name": "base",
   "language": "python",
   "name": "python3"
  },
  "language_info": {
   "codemirror_mode": {
    "name": "ipython",
    "version": 3
   },
   "file_extension": ".py",
   "mimetype": "text/x-python",
   "name": "python",
   "nbconvert_exporter": "python",
   "pygments_lexer": "ipython3",
   "version": "3.9.13"
  }
 },
 "nbformat": 4,
 "nbformat_minor": 5
}
