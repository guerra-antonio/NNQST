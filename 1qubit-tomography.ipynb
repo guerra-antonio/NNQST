{
 "cells": [
  {
   "cell_type": "code",
   "execution_count": 1,
   "id": "2c38bd1a",
   "metadata": {},
   "outputs": [],
   "source": [
    "import torch\n",
    "import numpy as np\n",
    "import matplotlib.pyplot as plt\n",
    "import random\n",
    "\n",
    "from classical_shadow import sample_measurements, NQS, nll_batch"
   ]
  },
  {
   "cell_type": "markdown",
   "id": "bba9263f",
   "metadata": {},
   "source": [
    "El objetivo principal del modelo de Deep Learning que implementaremos es ser capaz de estimar la amplitud y fase de probabilidad, es decir,\n",
    "\\begin{equation}\n",
    "\\nonumber\n",
    "\\psi_{\\lambda}(0) = \\langle 0 | \\psi_{\\lambda} \\rangle =\\sqrt{p_{\\lambda}(0)} e^{\\phi_{\\lambda}(0)}, \\qquad \\psi_{\\lambda}(1) = \\langle 1 | \\psi_{\\lambda} \\rangle =\\sqrt{p_{\\lambda}(1)} e^{\\phi_{\\lambda}(1)}.\n",
    "\\end{equation}\n",
    "\n",
    "En principio, necesitamos un total de 4 parámetros reales para representar un estado de 1-qubit dados por $p_{\\lambda}(0)$, $p_{\\lambda}(1)$, $\\phi_{\\lambda}(0)$ y $\\phi_{\\lambda}(1)$. Podemos reducir la cantidad de parámetros necesarios a 2 usando propiedades de normalización y fase global. De esta forma, la cantidad de parametros necesarios se reduce a una amplitud $\\sqrt{p_{\\lambda}}$ y una fase $\\psi_{\\lambda}$. \n",
    "\n",
    "Luego, dado que nosotros usaremos información experimental idealizada para implementar nuestra tomografía, escribiremos el estado en múltiples bases para poder adaptar nuestros outcomes con los outcomes del modelo."
   ]
  },
  {
   "cell_type": "markdown",
   "id": "d1434376",
   "metadata": {},
   "source": [
    "### ------------------------------------\n",
    "### Paso 1, construir nuestro estado target aleatorio\n",
    "### ------------------------------------\n",
    "\n",
    "Construimos un estado puro aleatorio dada una parametrización que requiere dos ángulos,\n",
    "\\begin{equation}\n",
    "\\nonumber\n",
    "\\psi_{\\mathrm{teo}} = \\cos(\\theta) \\ | 0 \\rangle + e^{i \\phi} \\sin(\\theta) \\ | 1 \\rangle.\n",
    "\\end{equation}"
   ]
  },
  {
   "cell_type": "code",
   "execution_count": 2,
   "id": "35b46dff",
   "metadata": {},
   "outputs": [
    {
     "name": "stdout",
     "output_type": "stream",
     "text": [
      "tensor([[0.9847+0.0000j],\n",
      "        [0.0963-0.1454j]])\n"
     ]
    }
   ],
   "source": [
    "# Elegimos dos parámetros aleatorios\n",
    "theta   = torch.rand(1) * 2 * np.pi\n",
    "phi     = torch.rand(1) * 2 * np.pi\n",
    "\n",
    "# Definimos el estado objetivo\n",
    "psi_teo = torch.tensor([np.cos(theta/2), np.sin(theta/2) * np.exp(1j*phi)]).reshape(-1,1)\n",
    "print(psi_teo)"
   ]
  },
  {
   "cell_type": "markdown",
   "id": "0ad101e8",
   "metadata": {},
   "source": [
    "### ------------------------------------\n",
    "### Paso 2, generamos nuestra data experimental simulada\n",
    "### ------------------------------------\n",
    "Para suministrar al modelo de información útil para entrenar necesitamos un conjunto de datos de la forma $(s, B)$, donde $s$ son los resultados de cada medición y $B$ la base que usamos para medir nuestro nuestro estado. En nuestro caso $B \\in \\{ X, Y, Z \\}$. \n",
    "\n",
    "\n",
    "\n",
    "El objetivo es, dado que el estado lo consideramos que viene en la base lógica, podemos diferenciar 3 casos:\n",
    "- Si queremos medir en $\\sigma_z$, aplicamos $U = \\mathcal{I}$\n",
    "- Si queremos medir en $\\sigma_x$ (base diagonal), aplicamos $U = H$\n",
    "- Si queremos medir en $\\sigma_y$ (base circular), aplicamos $U = S^{\\dagger} H$\n",
    "\n",
    "donde $H$ es la Hadamard y $S$ la phase gate."
   ]
  },
  {
   "cell_type": "code",
   "execution_count": 3,
   "id": "3a19a0be",
   "metadata": {},
   "outputs": [],
   "source": [
    "# Generamos un dateset de medidas aleatorias\n",
    "# Cada medida es en una base aleatoria (X Y Z) con probabilidad (1/3, 1/3, 1/3)\n",
    "n_exp   = 500\n",
    "dataset = sample_measurements(psi_teo, M = n_exp, probs_bases = (1/3, 1/3, 1/3))"
   ]
  },
  {
   "cell_type": "code",
   "execution_count": 4,
   "id": "c32f8d9f",
   "metadata": {},
   "outputs": [],
   "source": [
    "def flip_dataset(dataset, p: float):\n",
    "    new_dataset = []  # Aquí se almacenará el dataset con posibles flips.\n",
    "\n",
    "    elements_error = int(len(dataset) * p)  \n",
    "    # Calcula cuántos elementos del dataset se van a invertir.\n",
    "    # Ojo: siempre serán los primeros `elements_error`.\n",
    "\n",
    "    for _ in range(len(dataset)):\n",
    "        if _ < elements_error:\n",
    "            bit, basis = dataset[_]\n",
    "\n",
    "            # Si el bit es 0, lo cambia a 1; si es 1, lo cambia a 0.\n",
    "            if bit.item() == 0:\n",
    "                new_bit = 1\n",
    "            else:\n",
    "                new_bit = 0\n",
    "\n",
    "            # Crea una nueva tupla con el bit invertido y la misma base.\n",
    "            new_tupla = (torch.tensor([new_bit]), basis)\n",
    "            new_dataset.append(new_tupla)\n",
    "        else:\n",
    "            # Si no está en la parte de errores, lo deja igual.\n",
    "            new_dataset.append(dataset[_])\n",
    "    \n",
    "    random.shuffle(new_dataset)  # Mezcla el dataset para que los errores no estén al principio.\n",
    "    return new_dataset  # Devuelve la nueva lista con algunos flips"
   ]
  },
  {
   "cell_type": "code",
   "execution_count": 5,
   "id": "6cc65896",
   "metadata": {},
   "outputs": [
    {
     "data": {
      "text/plain": [
       "[(tensor([0]), 'X'),\n",
       " (tensor([0]), 'Z'),\n",
       " (tensor([0]), 'Z'),\n",
       " (tensor([0]), 'Z'),\n",
       " (tensor([0]), 'X'),\n",
       " (tensor([0]), 'X'),\n",
       " (tensor([0]), 'X'),\n",
       " (tensor([0]), 'Z'),\n",
       " (tensor([1]), 'Y'),\n",
       " (tensor([0]), 'Z')]"
      ]
     },
     "execution_count": 5,
     "metadata": {},
     "output_type": "execute_result"
    }
   ],
   "source": [
    "# Luego modificamos el dataset para incluir errores\n",
    "dataset = flip_dataset(dataset, p = 0.25)\n",
    "\n",
    "# Dividimos el dataset en train y test\n",
    "split       = int(0.8 * len(dataset))\n",
    "train_data  = dataset[:split]\n",
    "test_data   = dataset[split:]\n",
    "\n",
    "train_data[:10]"
   ]
  },
  {
   "cell_type": "code",
   "execution_count": 6,
   "id": "c85dbd57",
   "metadata": {},
   "outputs": [],
   "source": [
    "# Preparamos una función para crear cada minibatch para entrenar el modelo\n",
    "def batches(lst, bs):\n",
    "    \"\"\"\n",
    "    Yield successive mini-batches of size `bs` from a list.\n",
    "\n",
    "    Args:\n",
    "        lst: list, the dataset to be split into batches.\n",
    "        bs: int, batch size.\n",
    "\n",
    "    Yields:\n",
    "        list, a slice of `lst` containing up to `bs` elements.\n",
    "    \"\"\"\n",
    "    for i in range(0, len(lst), bs):\n",
    "        yield lst[i:i+bs]"
   ]
  },
  {
   "cell_type": "markdown",
   "id": "c404dab3",
   "metadata": {},
   "source": [
    "Para realizar el entrenamiento es necesario construir una función, a partir de los parámetros del modelo, a optimizar. Para este caso usaremos la Negative-Log-Likelihood dada por,\n",
    "\\begin{equation}\n",
    "\\nonumber\n",
    "\\mathcal{L}_{\\lambda} \\approx -\\frac{1}{|N_{\\mathrm{train}}|} \\sum_{|s, B \\rangle \\in D_{\\mathrm{Train}}} \\log_2 \\ p_{\\psi_{\\lambda}} (s, B),\n",
    "\\end{equation}\n",
    "donde $\\lambda$ representan los parámetros del modelo y, la probabilidad de medir un salida $s$ del estado $\\psi$ después de rotarlo a la base $B$ se define como\n",
    "\\begin{equation}\n",
    "\\nonumber\n",
    "p_{\\psi_{\\lambda}} (s, B) = \\left| \n",
    "   \\sum_{\\substack{t \\in \\{0,1\\}^n \\\\ \\langle s,B|t\\rangle \\neq 0}} \n",
    "      \\langle s,B|t\\rangle \\langle t|\\psi_\\lambda\\rangle \n",
    "\\right|^2\n",
    "\\end{equation}"
   ]
  },
  {
   "cell_type": "code",
   "execution_count": 7,
   "id": "6c3a200e",
   "metadata": {},
   "outputs": [
    {
     "name": "stdout",
     "output_type": "stream",
     "text": [
      "Epoch   1 | train NLL: 2.685085 | val NLL: 1.850732\n",
      "Epoch  50 | train NLL: 1.108956 | val NLL: 1.168355\n",
      "Epoch 100 | train NLL: 1.085945 | val NLL: 1.181280\n",
      "Epoch 150 | train NLL: 1.073936 | val NLL: 1.172362\n",
      "Epoch 200 | train NLL: 1.049200 | val NLL: 1.141278\n",
      "Epoch 250 | train NLL: 1.039816 | val NLL: 1.127804\n",
      "Epoch 300 | train NLL: 1.037572 | val NLL: 1.125903\n",
      "Epoch 350 | train NLL: 1.037245 | val NLL: 1.127183\n",
      "Epoch 400 | train NLL: 1.037206 | val NLL: 1.128031\n",
      "Epoch 450 | train NLL: 1.037186 | val NLL: 1.128246\n",
      "Epoch 500 | train NLL: 1.037187 | val NLL: 1.128377\n"
     ]
    }
   ],
   "source": [
    "# Entrenamos nuestro modelo para que ajuste sus parámetros de tal forma que pueda describir la estadistica de nuestro estado\n",
    "model   = NQS()\n",
    "opt     = torch.optim.Adam(model.parameters(), lr=1e-2)\n",
    "sched   = scheduler = torch.optim.lr_scheduler.StepLR(opt, step_size=200, gamma=0.5)\n",
    "epochs  = 500\n",
    "batch   = 64\n",
    "\n",
    "loss_train  = []\n",
    "loss_test   = []\n",
    "\n",
    "# Entrenamiento\n",
    "for epoch in range(1, epochs + 1):\n",
    "    model.train() # Set el modelo para entrenar\n",
    "    losses = []\n",
    "\n",
    "    for _ in batches(train_data, batch):\n",
    "        loss = nll_batch(model, _) # Calculamos la función de pérdida para el batch elegido\n",
    "\n",
    "        opt.zero_grad() # Limpiamos los gradientes\n",
    "        loss.backward() # Calculamos los gradientes\n",
    "        opt.step()  # Actualizamos los parámetros del modelo\n",
    "        losses.append(loss.item())\n",
    "\n",
    "    sched.step() # Actualizamos la tasa de aprendizaje\n",
    "\n",
    "    # validación\n",
    "    model.eval()\n",
    "    with torch.no_grad():\n",
    "        val_loss = nll_batch(model, test_data).item()\n",
    "\n",
    "    loss_train.append(np.mean(losses))\n",
    "    loss_test.append(val_loss)\n",
    "\n",
    "    if epoch % 50 == 0 or epoch == 1 or epoch == epochs:\n",
    "        print(f\"Epoch {epoch:3d} | train NLL: {np.mean(losses):.6f} | val NLL: {val_loss:.6f}\")"
   ]
  },
  {
   "cell_type": "code",
   "execution_count": 8,
   "id": "6f23f1ec",
   "metadata": {},
   "outputs": [
    {
     "data": {
      "image/png": "[encoded data removed]",
      "text/plain": [
       "<Figure size 640x480 with 1 Axes>"
      ]
     },
     "metadata": {},
     "output_type": "display_data"
    }
   ],
   "source": [
    "# Para determinar si todo salión bien, una forma de verificar es observar la variación de la función de pérdida durante el entrenamiento\n",
    "plt.plot(loss_train, label='Train NLL', color=\"pink\")\n",
    "plt.plot(loss_test, label='Test NLL', color=\"lightblue\")\n",
    "plt.xscale('log')\n",
    "plt.xlabel('Epoch')\n",
    "plt.ylabel('Negative Log-Likelihood')\n",
    "plt.legend()\n",
    "plt.grid()\n",
    "\n",
    "plt.show()"
   ]
  },
  {
   "cell_type": "code",
   "execution_count": 9,
   "id": "639ed95a",
   "metadata": {},
   "outputs": [
    {
     "name": "stdout",
     "output_type": "stream",
     "text": [
      "\n",
      "=== Resultado ===\n",
      "Fidelidad obtenida : 0.980124\n"
     ]
    }
   ],
   "source": [
    "# Observamos los parámetros obtenidos y los comparamos con los usados para generar la data. Además, calculamos la fidelidad entre el estado teórico y el estimado en la tomografía\n",
    "\n",
    "psi_est = model.statevector() # Obtenemos el psi del modelo\n",
    "braket  = (psi_teo.conj().T @ psi_est).squeeze()\n",
    "fid     = (braket.conj()*braket).real.item() # Calculamos la fidelidad\n",
    "\n",
    "# Comparamos también los parámetros del estado\n",
    "al, probs = model.alphas()\n",
    "phi0, phi1 = model.phases.tolist()\n",
    "\n",
    "# Mostramos los resultados\n",
    "print(\"\\n=== Resultado ===\")\n",
    "print(f\"Fidelidad obtenida : {fid:.6f}\")"
   ]
  }
 ],
 "metadata": {
  "kernelspec": {
   "display_name": "base",
   "language": "python",
   "name": "python3"
  },
  "language_info": {
   "codemirror_mode": {
    "name": "ipython",
    "version": 3
   },
   "file_extension": ".py",
   "mimetype": "text/x-python",
   "name": "python",
   "nbconvert_exporter": "python",
   "pygments_lexer": "ipython3",
   "version": "3.9.19"
  }
 },
 "nbformat": 4,
 "nbformat_minor": 5
}
