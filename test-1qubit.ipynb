{
 "cells": [
  {
   "cell_type": "code",
   "execution_count": 55,
   "id": "e9743807",
   "metadata": {},
   "outputs": [],
   "source": [
    "import numpy as np\n",
    "import torch\n",
    "import torch.nn as nn\n",
    "import torch.nn.functional as F\n",
    "\n",
    "from classical_shadow import random_state"
   ]
  },
  {
   "cell_type": "code",
   "execution_count": 56,
   "id": "6a91dd60",
   "metadata": {},
   "outputs": [],
   "source": [
    "# ======================\n",
    "# Configuración\n",
    "# ======================\n",
    "DEVICE = \"cpu\"\n",
    "DTYPEC = torch.complex64\n",
    "DTYPR = torch.float32\n",
    "EPS    = 1e-10"
   ]
  },
  {
   "cell_type": "code",
   "execution_count": 57,
   "id": "01f3e36d",
   "metadata": {},
   "outputs": [
    {
     "data": {
      "text/plain": [
       "tensor([[0.4252+0.0000j],\n",
       "        [0.5199-0.7408j]])"
      ]
     },
     "execution_count": 57,
     "metadata": {},
     "output_type": "execute_result"
    }
   ],
   "source": [
    "# ======================\n",
    "# Estado verdadero |psi_true> (1 qubit)\n",
    "# ======================\n",
    "psi_true = random_state()\n",
    "\n",
    "psi_true"
   ]
  },
  {
   "cell_type": "code",
   "execution_count": 58,
   "id": "24d7b81e",
   "metadata": {},
   "outputs": [],
   "source": [
    "# ======================\n",
    "# Probabilidades teóricas por base\n",
    "# ======================\n",
    "def probs_true_in_basis(psi, B):\n",
    "    \"\"\"\n",
    "    Devuelve p(s|B) para s=0,1 y B in {'Z','X','Y'}.\n",
    "    psi: (2,1) complejo\n",
    "    \"\"\"\n",
    "    a0, a1 = psi.flatten()\n",
    "    if B == 'Z':\n",
    "        p0 = (a0.conj()*a0).real\n",
    "        p1 = (a1.conj()*a1).real\n",
    "    elif B == 'X':\n",
    "        # |±> = (|0> ± |1>)/sqrt(2)\n",
    "        A0 = (a0 + a1) / np.sqrt(2)  # s=0 => |+>\n",
    "        A1 = (a0 - a1) / np.sqrt(2)  # s=1 => |->\n",
    "        p0 = (A0.conj()*A0).real\n",
    "        p1 = (A1.conj()*A1).real\n",
    "    elif B == 'Y':\n",
    "        # |±i> = (|0> ± i|1>)/sqrt(2)\n",
    "        A0 = (a0 + 1j*a1) / np.sqrt(2)   # s=0 => |+i>\n",
    "        A1 = (a0 - 1j*a1) / np.sqrt(2)   # s=1 => |-i>\n",
    "        p0 = (A0.conj()*A0).real\n",
    "        p1 = (A1.conj()*A1).real\n",
    "    else:\n",
    "        raise ValueError(\"Basis must be 'X','Y','Z'\")\n",
    "    # Garantiza normalización numérica\n",
    "    norm = (p0 + p1).clamp_min(EPS)\n",
    "    # norm = p0 + p1\n",
    "    return torch.stack([p0/norm, p1/norm])"
   ]
  },
  {
   "cell_type": "code",
   "execution_count": 59,
   "id": "440b7877",
   "metadata": {},
   "outputs": [],
   "source": [
    "# ======================\n",
    "# Simulación de datos (s, B)\n",
    "# ======================\n",
    "def sample_measurements(psi, M=2000, probs_bases=(1/3,1/3,1/3), seed=1):\n",
    "    \"\"\"\n",
    "    Genera M tiros con bases (X,Y,Z) según probs_bases y resultados s~p_true(s|B).\n",
    "    Devuelve lista de (s_tensor, B_char), donde s_tensor es 0 o 1 (LongTensor shape (1,))\n",
    "    \"\"\"\n",
    "    rng = np.random.default_rng(seed)\n",
    "    bases = np.array(['X','Y','Z'])\n",
    "    probsB = np.array(probs_bases, dtype=float)\n",
    "    data = []\n",
    "    for _ in range(M):\n",
    "        B = rng.choice(bases, p=probsB).item()\n",
    "        p = probs_true_in_basis(psi, B).numpy().astype(np.float32)\n",
    "        s = int(rng.choice([0,1], p = p))\n",
    "        data.append((torch.tensor([s], dtype=torch.long), B))\n",
    "    return data\n",
    "    # return print(np.sum(p))\n",
    "\n",
    "# Dataset\n",
    "M = 50\n",
    "data = sample_measurements(psi_true, M=M, probs_bases=(1/3,1/3,1/3), seed=2)\n",
    "train_data = data"
   ]
  },
  {
   "cell_type": "code",
   "execution_count": 60,
   "id": "c1bcf8de",
   "metadata": {},
   "outputs": [],
   "source": [
    "# ======================\n",
    "# NQS mínimo para 1 qubit\n",
    "# ======================\n",
    "class NQS(nn.Module):\n",
    "    \"\"\"\n",
    "    Parámetros:\n",
    "      - logits (2): para p(0), p(1) con softmax (normaliza automáticamente)\n",
    "      - phases (2): phi_0, phi_1 (reales)\n",
    "    Amplitudes:\n",
    "      alpha_0 = sqrt(p0) * exp(i phi_0)\n",
    "      alpha_1 = sqrt(p1) * exp(i phi_1)\n",
    "    \"\"\"\n",
    "    def __init__(self):\n",
    "        super().__init__()\n",
    "        self.logits = nn.Parameter(torch.zeros(2, dtype=DTYPR))\n",
    "        self.phases = nn.Parameter(torch.zeros(2, dtype=DTYPR))\n",
    "\n",
    "    def alphas(self):\n",
    "        probs = F.softmax(self.logits, dim=0)             # (2,)\n",
    "        amp   = torch.sqrt(probs).to(DTYPR) * torch.exp(1j*self.phases.to(DTYPR))\n",
    "        return amp, probs\n",
    "\n",
    "    def prob_s_given_B(self, s, B):\n",
    "        \"\"\"\n",
    "        p_lambda(s|B) mediante amplitudes alpha_0, alpha_1.\n",
    "        \"\"\"\n",
    "        al, probs = self.alphas()\n",
    "        a0, a1 = al[0], al[1]\n",
    "        if B == 'Z':\n",
    "            return probs[s]  # |alpha_s|^2 = p(s) directamente\n",
    "        elif B == 'X':\n",
    "            A = (a0 + ((-1)**s.item())*a1) / np.sqrt(2.0)\n",
    "            return (A.conj()*A).real.clamp_min(EPS)\n",
    "        elif B == 'Y':\n",
    "            # s=0 => (a0 + i a1)/√2 ; s=1 => (a0 - i a1)/√2\n",
    "            A = (a0 + (1j if s.item()==0 else -1j)*a1) / np.sqrt(2.0)\n",
    "            return (A.conj()*A).real.clamp_min(EPS)\n",
    "        else:\n",
    "            raise ValueError(\"Basis must be 'X','Y','Z'\")\n",
    "\n",
    "    def statevector(self):\n",
    "        al, _ = self.alphas()\n",
    "        psi = al.reshape(2,1).to(DTYPEC)\n",
    "        # normaliza por seguridad\n",
    "        psi = psi / torch.linalg.norm(psi)\n",
    "        return psi"
   ]
  },
  {
   "cell_type": "code",
   "execution_count": 61,
   "id": "493c41a5",
   "metadata": {},
   "outputs": [],
   "source": [
    "# ======================\n",
    "# Loss (NLL sobre (s,B))\n",
    "# ======================\n",
    "def nll_batch(model, batch):\n",
    "    logps = []\n",
    "    for s, B in batch:\n",
    "        p = model.prob_s_given_B(s, B)\n",
    "        logps.append(torch.log2(p))\n",
    "    \n",
    "    logps = sum(logps)/len(logps) \n",
    "    return -logps"
   ]
  },
  {
   "cell_type": "code",
   "execution_count": 62,
   "id": "910c3ba6",
   "metadata": {},
   "outputs": [],
   "source": [
    "# ======================\n",
    "# Entrenamiento\n",
    "# ======================\n",
    "model = NQS().to(DEVICE)\n",
    "opt = torch.optim.Adam(model.parameters(), lr=1e-2)\n",
    "EPOCHS = 500\n",
    "BATCH  = M\n",
    "\n",
    "def batches(lst, bs):\n",
    "    for i in range(0, len(lst), bs):\n",
    "        yield lst[i:i+bs]\n",
    "\n",
    "for epoch in range(1, EPOCHS+1):\n",
    "    model.train()\n",
    "    losses = []\n",
    "    for batch in batches(train_data, BATCH):\n",
    "        loss = nll_batch(model, batch)\n",
    "        opt.zero_grad(); loss.backward(); opt.step()\n",
    "        losses.append(loss.item())\n",
    "\n",
    "    # if epoch % 20 == 0 or epoch == 1 or epoch == EPOCHS:\n",
    "    #     print(f\"Epoch {epoch:3d} | train NLL: {np.mean(losses):.6f}\")"
   ]
  },
  {
   "cell_type": "code",
   "execution_count": 63,
   "id": "8a0510f9",
   "metadata": {},
   "outputs": [
    {
     "name": "stdout",
     "output_type": "stream",
     "text": [
      "\n",
      "=== Resultados (1 qubit) ===\n",
      "Fidelidad |<psi_true|psi_est>|^2 : 0.997772\n",
      "Norma de |psi_est> (≈1):          1.000000\n",
      "p(0), p(1) estimadas: 0.1604, 0.8396\n",
      "Fases phi0, phi1 (rad): 0.531, -0.531\n"
     ]
    }
   ],
   "source": [
    "# ======================\n",
    "# Fidelidad final\n",
    "# ======================\n",
    "with torch.no_grad():\n",
    "    psi_est = model.statevector()           # (2,1)\n",
    "    overlap = (psi_true.conj().T @ psi_est).squeeze()\n",
    "    fidelity = (overlap.conj()*overlap).real.item()\n",
    "    norm_est = float((psi_est.conj()*psi_est).sum().real)\n",
    "\n",
    "print(\"\\n=== Resultados (1 qubit) ===\")\n",
    "print(f\"Fidelidad |<psi_true|psi_est>|^2 : {fidelity:.6f}\")\n",
    "print(f\"Norma de |psi_est> (≈1):          {norm_est:.6f}\")\n",
    "\n",
    "# También puedes ver las probs y fases aprendidas:\n",
    "with torch.no_grad():\n",
    "    al, probs = model.alphas()\n",
    "    phi0, phi1 = model.phases.tolist()\n",
    "    print(f\"p(0), p(1) estimadas: {probs[0].item():.4f}, {probs[1].item():.4f}\")\n",
    "    print(f\"Fases phi0, phi1 (rad): {phi0:.3f}, {phi1:.3f}\")"
   ]
  }
 ],
 "metadata": {
  "kernelspec": {
   "display_name": "base",
   "language": "python",
   "name": "python3"
  },
  "language_info": {
   "codemirror_mode": {
    "name": "ipython",
    "version": 3
   },
   "file_extension": ".py",
   "mimetype": "text/x-python",
   "name": "python",
   "nbconvert_exporter": "python",
   "pygments_lexer": "ipython3",
   "version": "3.9.13"
  }
 },
 "nbformat": 4,
 "nbformat_minor": 5
}
